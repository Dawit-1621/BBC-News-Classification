{
 "cells": [
  {
   "cell_type": "markdown",
   "id": "sharp-diabetes",
   "metadata": {
    "id": "sharp-diabetes"
   },
   "source": [
    "# BBC News Classification Project"
   ]
  },
  {
   "cell_type": "markdown",
   "id": "fantastic-boards",
   "metadata": {
    "id": "fantastic-boards"
   },
   "source": [
    "There exists a large amount of information being stored in the electronic format. With such data it has\n",
    "become a necessity of such means that could interpret and analyse such data and extract such facts that could\n",
    "help in decision-making.<br>\n",
    "News is easily accessible via content providers such as online news services. A huge amount of information exists in form of text in various diverse areas whose analysis can be beneficial in several areas. Classification is quite a challenging field in text mining as it requires prepossessing steps to convert unstructured data to structured information. With the increase in the number of news it has got difficult for users to access news of his interest which makes it a necessity to categories news so that it could be easily accessed. Categorization refers to grouping that allows easier navigation among articles. Internet news needs to be divided into categories"
   ]
  },
  {
   "cell_type": "markdown",
   "id": "useful-planet",
   "metadata": {
    "id": "useful-planet"
   },
   "source": [
    "### The Dataset\n",
    "Text documents are one of the richest sources of data for businesses.\n",
    "\n",
    "We’ll use a public dataset from the BBC comprised of 2225 articles, each labeled under one of 5 categories: business, entertainment, politics, sport or tech.\n",
    "\n",
    "The dataset is broken into 1490 records for training and 735 for testing. The goal will be to build a system that can accurately classify previously unseen news articles into the right category.\n"
   ]
  },
  {
   "cell_type": "markdown",
   "id": "overhead-commission",
   "metadata": {
    "id": "overhead-commission"
   },
   "source": [
    "1. **Summary of the project**: We are classifying BBC news articles into five categories using natural Language Processing and Machine Learning. The five news topics are: Politics, Entertainment, Sports, Technology, and Business. The goal of this project is to create a text classifier that will streamline the process of categorizing news publications. \n",
    "<br><br>\n",
    "2. **Summary of the data**: The dataset consists of 2225 news articles extracted from the BBC website between 2004 and 2005. It was published open source by Insight Resources and was collected by UC Davis for research. The class distribution is as follows:\n",
    "```\n",
    "business: 510\n",
    "entertainment: 386\n",
    "politics: 417 \n",
    "sports: 511\n",
    "technology: 401 \n",
    "```"
   ]
  },
  {
   "cell_type": "markdown",
   "id": "71a21d4a",
   "metadata": {},
   "source": [
    "#### Mounted at Google Drive\n"
   ]
  },
  {
   "cell_type": "code",
   "execution_count": 1,
   "id": "1QE9YbbCc0_N",
   "metadata": {
    "colab": {
     "base_uri": "https://localhost:8080/"
    },
    "id": "1QE9YbbCc0_N",
    "outputId": "756d303e-f580-4399-8074-9bb8b1e80489"
   },
   "outputs": [
    {
     "name": "stdout",
     "output_type": "stream",
     "text": [
      "Mounted at /content/drive/\n"
     ]
    }
   ],
   "source": [
    "from google.colab import drive\n",
    "drive.mount('/content/drive/')"
   ]
  },
  {
   "cell_type": "code",
   "execution_count": 2,
   "id": "owned-surrey",
   "metadata": {
    "id": "owned-surrey"
   },
   "outputs": [],
   "source": [
    "import numpy as np # linear algebra\n",
    "import pandas as pd # data processing, CSV file I/O (e.g. pd.read_csv)\n",
    "import matplotlib.pyplot as plt\n",
    "import os\n",
    "from sklearn.feature_extraction.text import TfidfVectorizer"
   ]
  },
  {
   "cell_type": "markdown",
   "id": "e6ea6d49",
   "metadata": {},
   "source": [
    "#### Import the Dataset\n"
   ]
  },
  {
   "cell_type": "code",
   "execution_count": 3,
   "id": "YLBn_DtHa0Ms",
   "metadata": {
    "id": "YLBn_DtHa0Ms"
   },
   "outputs": [],
   "source": [
    "df_train = pd.read_csv('/content/drive/My Drive/AI_Project/NLP/BBC-News-Classification/Data/BBC News Train.csv')"
   ]
  },
  {
   "cell_type": "code",
   "execution_count": 4,
   "id": "VKvf7mVtdmYC",
   "metadata": {
    "colab": {
     "base_uri": "https://localhost:8080/",
     "height": 204
    },
    "id": "VKvf7mVtdmYC",
    "outputId": "b8f95e51-7a01-42bd-a2f0-5e027e5be5d8"
   },
   "outputs": [
    {
     "data": {
      "text/html": [
       "<div>\n",
       "<style scoped>\n",
       "    .dataframe tbody tr th:only-of-type {\n",
       "        vertical-align: middle;\n",
       "    }\n",
       "\n",
       "    .dataframe tbody tr th {\n",
       "        vertical-align: top;\n",
       "    }\n",
       "\n",
       "    .dataframe thead th {\n",
       "        text-align: right;\n",
       "    }\n",
       "</style>\n",
       "<table border=\"1\" class=\"dataframe\">\n",
       "  <thead>\n",
       "    <tr style=\"text-align: right;\">\n",
       "      <th></th>\n",
       "      <th>ArticleId</th>\n",
       "      <th>Text</th>\n",
       "      <th>Category</th>\n",
       "    </tr>\n",
       "  </thead>\n",
       "  <tbody>\n",
       "    <tr>\n",
       "      <th>0</th>\n",
       "      <td>1833</td>\n",
       "      <td>worldcom ex-boss launches defence lawyers defe...</td>\n",
       "      <td>business</td>\n",
       "    </tr>\n",
       "    <tr>\n",
       "      <th>1</th>\n",
       "      <td>154</td>\n",
       "      <td>german business confidence slides german busin...</td>\n",
       "      <td>business</td>\n",
       "    </tr>\n",
       "    <tr>\n",
       "      <th>2</th>\n",
       "      <td>1101</td>\n",
       "      <td>bbc poll indicates economic gloom citizens in ...</td>\n",
       "      <td>business</td>\n",
       "    </tr>\n",
       "    <tr>\n",
       "      <th>3</th>\n",
       "      <td>1976</td>\n",
       "      <td>lifestyle  governs mobile choice  faster  bett...</td>\n",
       "      <td>tech</td>\n",
       "    </tr>\n",
       "    <tr>\n",
       "      <th>4</th>\n",
       "      <td>917</td>\n",
       "      <td>enron bosses in $168m payout eighteen former e...</td>\n",
       "      <td>business</td>\n",
       "    </tr>\n",
       "  </tbody>\n",
       "</table>\n",
       "</div>"
      ],
      "text/plain": [
       "   ArticleId                                               Text  Category\n",
       "0       1833  worldcom ex-boss launches defence lawyers defe...  business\n",
       "1        154  german business confidence slides german busin...  business\n",
       "2       1101  bbc poll indicates economic gloom citizens in ...  business\n",
       "3       1976  lifestyle  governs mobile choice  faster  bett...      tech\n",
       "4        917  enron bosses in $168m payout eighteen former e...  business"
      ]
     },
     "execution_count": 4,
     "metadata": {},
     "output_type": "execute_result"
    }
   ],
   "source": [
    "df_train.head()"
   ]
  },
  {
   "cell_type": "code",
   "execution_count": 5,
   "id": "zLaGgclJZJuZ",
   "metadata": {
    "id": "zLaGgclJZJuZ"
   },
   "outputs": [],
   "source": [
    "df_train['category_id'] = df_train['Category'].factorize()[0]"
   ]
  },
  {
   "cell_type": "markdown",
   "id": "e71ba4da",
   "metadata": {},
   "source": [
    "#### View first 10 entries of category_id, as a sanity check\n"
   ]
  },
  {
   "cell_type": "code",
   "execution_count": 6,
   "id": "HSjLiDUZwUVJ",
   "metadata": {
    "colab": {
     "base_uri": "https://localhost:8080/"
    },
    "id": "HSjLiDUZwUVJ",
    "outputId": "426fcba0-4347-4b4c-e679-f8a3ced73edb"
   },
   "outputs": [
    {
     "data": {
      "text/plain": [
       "0    0\n",
       "1    0\n",
       "2    0\n",
       "3    1\n",
       "4    0\n",
       "5    2\n",
       "6    3\n",
       "7    4\n",
       "8    0\n",
       "9    4\n",
       "Name: category_id, dtype: int64"
      ]
     },
     "execution_count": 6,
     "metadata": {},
     "output_type": "execute_result"
    }
   ],
   "source": [
    "#View first 10 entries of category_id, as a sanity check\n",
    "df_train['category_id'][0:10]"
   ]
  },
  {
   "cell_type": "markdown",
   "id": "fd3aa89d",
   "metadata": {},
   "source": [
    "Create a new pandas dataframe \"category_id_df\", which only has unique Categories, also sorting this list in order of category_id values"
   ]
  },
  {
   "cell_type": "code",
   "execution_count": 7,
   "id": "Td6exzm4wbj1",
   "metadata": {
    "id": "Td6exzm4wbj1"
   },
   "outputs": [],
   "source": [
    "# Create a new pandas dataframe \"category_id_df\", which only has unique Categories, also sorting this list in order of category_id values\n",
    "category_id_df = df_train[['Category', 'category_id']].drop_duplicates().sort_values('category_id')"
   ]
  },
  {
   "cell_type": "code",
   "execution_count": 8,
   "id": "3JZNNZPG7HLw",
   "metadata": {
    "colab": {
     "base_uri": "https://localhost:8080/",
     "height": 204
    },
    "id": "3JZNNZPG7HLw",
    "outputId": "e5b289e2-1193-4921-f26b-fbb26fe3e626"
   },
   "outputs": [
    {
     "data": {
      "text/html": [
       "<div>\n",
       "<style scoped>\n",
       "    .dataframe tbody tr th:only-of-type {\n",
       "        vertical-align: middle;\n",
       "    }\n",
       "\n",
       "    .dataframe tbody tr th {\n",
       "        vertical-align: top;\n",
       "    }\n",
       "\n",
       "    .dataframe thead th {\n",
       "        text-align: right;\n",
       "    }\n",
       "</style>\n",
       "<table border=\"1\" class=\"dataframe\">\n",
       "  <thead>\n",
       "    <tr style=\"text-align: right;\">\n",
       "      <th></th>\n",
       "      <th>Category</th>\n",
       "      <th>category_id</th>\n",
       "    </tr>\n",
       "  </thead>\n",
       "  <tbody>\n",
       "    <tr>\n",
       "      <th>0</th>\n",
       "      <td>business</td>\n",
       "      <td>0</td>\n",
       "    </tr>\n",
       "    <tr>\n",
       "      <th>3</th>\n",
       "      <td>tech</td>\n",
       "      <td>1</td>\n",
       "    </tr>\n",
       "    <tr>\n",
       "      <th>5</th>\n",
       "      <td>politics</td>\n",
       "      <td>2</td>\n",
       "    </tr>\n",
       "    <tr>\n",
       "      <th>6</th>\n",
       "      <td>sport</td>\n",
       "      <td>3</td>\n",
       "    </tr>\n",
       "    <tr>\n",
       "      <th>7</th>\n",
       "      <td>entertainment</td>\n",
       "      <td>4</td>\n",
       "    </tr>\n",
       "  </tbody>\n",
       "</table>\n",
       "</div>"
      ],
      "text/plain": [
       "        Category  category_id\n",
       "0       business            0\n",
       "3           tech            1\n",
       "5       politics            2\n",
       "6          sport            3\n",
       "7  entertainment            4"
      ]
     },
     "execution_count": 8,
     "metadata": {},
     "output_type": "execute_result"
    }
   ],
   "source": [
    "category_id_df"
   ]
  },
  {
   "cell_type": "markdown",
   "id": "06e115f3",
   "metadata": {},
   "source": [
    "Create a dictionary"
   ]
  },
  {
   "cell_type": "code",
   "execution_count": 9,
   "id": "SVT5C8n6w0aN",
   "metadata": {
    "id": "SVT5C8n6w0aN"
   },
   "outputs": [],
   "source": [
    "# Create a dictionary ( python datastructure - like a lookup table) that \n",
    "# can easily convert category names into category_ids and vice-versa\n",
    "category_to_id = dict(category_id_df.values)\n",
    "id_to_category = dict(category_id_df[['category_id', 'Category']].values)"
   ]
  },
  {
   "cell_type": "code",
   "execution_count": 10,
   "id": "V_ZIKb7Mw4Ro",
   "metadata": {
    "colab": {
     "base_uri": "https://localhost:8080/"
    },
    "id": "V_ZIKb7Mw4Ro",
    "outputId": "ade66da4-d518-4707-a400-86f287abca82"
   },
   "outputs": [
    {
     "data": {
      "text/plain": [
       "{0: 'business', 1: 'tech', 2: 'politics', 3: 'sport', 4: 'entertainment'}"
      ]
     },
     "execution_count": 10,
     "metadata": {},
     "output_type": "execute_result"
    }
   ],
   "source": [
    "id_to_category"
   ]
  },
  {
   "cell_type": "code",
   "execution_count": 11,
   "id": "U-PZWf6ow5a7",
   "metadata": {
    "colab": {
     "base_uri": "https://localhost:8080/",
     "height": 204
    },
    "id": "U-PZWf6ow5a7",
    "outputId": "8f88ac47-bf51-4733-a739-7fa3383616d4"
   },
   "outputs": [
    {
     "data": {
      "text/html": [
       "<div>\n",
       "<style scoped>\n",
       "    .dataframe tbody tr th:only-of-type {\n",
       "        vertical-align: middle;\n",
       "    }\n",
       "\n",
       "    .dataframe tbody tr th {\n",
       "        vertical-align: top;\n",
       "    }\n",
       "\n",
       "    .dataframe thead th {\n",
       "        text-align: right;\n",
       "    }\n",
       "</style>\n",
       "<table border=\"1\" class=\"dataframe\">\n",
       "  <thead>\n",
       "    <tr style=\"text-align: right;\">\n",
       "      <th></th>\n",
       "      <th>ArticleId</th>\n",
       "      <th>Text</th>\n",
       "      <th>Category</th>\n",
       "      <th>category_id</th>\n",
       "    </tr>\n",
       "  </thead>\n",
       "  <tbody>\n",
       "    <tr>\n",
       "      <th>9</th>\n",
       "      <td>1866</td>\n",
       "      <td>fockers fuel festive film chart comedy meet th...</td>\n",
       "      <td>entertainment</td>\n",
       "      <td>4</td>\n",
       "    </tr>\n",
       "    <tr>\n",
       "      <th>354</th>\n",
       "      <td>1349</td>\n",
       "      <td>tory candidate quits over remark a conservativ...</td>\n",
       "      <td>politics</td>\n",
       "      <td>2</td>\n",
       "    </tr>\n",
       "    <tr>\n",
       "      <th>1227</th>\n",
       "      <td>1572</td>\n",
       "      <td>bath faced with tindall ultimatum mike tindall...</td>\n",
       "      <td>sport</td>\n",
       "      <td>3</td>\n",
       "    </tr>\n",
       "    <tr>\n",
       "      <th>907</th>\n",
       "      <td>1155</td>\n",
       "      <td>chancellor rallies labour voters gordon brown ...</td>\n",
       "      <td>politics</td>\n",
       "      <td>2</td>\n",
       "    </tr>\n",
       "    <tr>\n",
       "      <th>575</th>\n",
       "      <td>307</td>\n",
       "      <td>young debut cut short by ginepri fifteen-year-...</td>\n",
       "      <td>sport</td>\n",
       "      <td>3</td>\n",
       "    </tr>\n",
       "  </tbody>\n",
       "</table>\n",
       "</div>"
      ],
      "text/plain": [
       "      ArticleId  ... category_id\n",
       "9          1866  ...           4\n",
       "354        1349  ...           2\n",
       "1227       1572  ...           3\n",
       "907        1155  ...           2\n",
       "575         307  ...           3\n",
       "\n",
       "[5 rows x 4 columns]"
      ]
     },
     "execution_count": 11,
     "metadata": {},
     "output_type": "execute_result"
    }
   ],
   "source": [
    "# Pick 5 random samples from the dataframe\n",
    "df_train.sample(5, random_state=0)"
   ]
  },
  {
   "cell_type": "code",
   "execution_count": 12,
   "id": "9eBQ0iUvw5d0",
   "metadata": {
    "colab": {
     "base_uri": "https://localhost:8080/"
    },
    "id": "9eBQ0iUvw5d0",
    "outputId": "d406cbfa-aedc-499d-8a79-ff52fec73b76"
   },
   "outputs": [
    {
     "data": {
      "text/plain": [
       "Category\n",
       "business         336\n",
       "entertainment    273\n",
       "politics         274\n",
       "sport            346\n",
       "tech             261\n",
       "Name: category_id, dtype: int64"
      ]
     },
     "execution_count": 12,
     "metadata": {},
     "output_type": "execute_result"
    }
   ],
   "source": [
    "# Group the dataframe by categories and count items ( number of news articles) in each category\n",
    "\n",
    "df_train.groupby('Category').category_id.count()"
   ]
  },
  {
   "cell_type": "code",
   "execution_count": 13,
   "id": "ChY-Qr0Pw5gv",
   "metadata": {
    "colab": {
     "base_uri": "https://localhost:8080/",
     "height": 358
    },
    "id": "ChY-Qr0Pw5gv",
    "outputId": "19ee5267-58c4-40ce-e300-6a1ed4cf590f"
   },
   "outputs": [
    {
     "data": {
      "text/plain": [
       "<matplotlib.axes._subplots.AxesSubplot at 0x7fb4cc8d5ad0>"
      ]
     },
     "execution_count": 13,
     "metadata": {},
     "output_type": "execute_result"
    },
    {
     "data": {
      "image/png": "[encoded data removed]",
      "text/plain": [
       "<Figure size 432x288 with 1 Axes>"
      ]
     },
     "metadata": {
      "needs_background": "light"
     },
     "output_type": "display_data"
    }
   ],
   "source": [
    "#Plot the distribution of news articles by category\n",
    "\n",
    "df_train.groupby('Category').category_id.count().plot.bar(ylim=0)"
   ]
  },
  {
   "cell_type": "code",
   "execution_count": 14,
   "id": "q4Kop9yKw4Ul",
   "metadata": {
    "id": "q4Kop9yKw4Ul"
   },
   "outputs": [],
   "source": [
    "from sklearn.feature_extraction.text import TfidfVectorizer\n",
    "\n",
    "tfidf = TfidfVectorizer(sublinear_tf=True, min_df=5, norm='l2', encoding='latin-1', ngram_range=(1, 2), stop_words='english')\n",
    "\n",
    "features = tfidf.fit_transform(df_train.Text).toarray() # Remaps the words in the 1490 articles in the text column of \n",
    "                                                  # data frame into features (superset of words) with an importance assigned \n",
    "                                                  # based on each words frequency in the document and across documents\n",
    "\n",
    "labels = df_train.category_id                           # represents the category of each of the 1490 articles"
   ]
  },
  {
   "cell_type": "code",
   "execution_count": 15,
   "id": "PY7VxMekw4XX",
   "metadata": {
    "colab": {
     "base_uri": "https://localhost:8080/"
    },
    "id": "PY7VxMekw4XX",
    "outputId": "1dd459af-2061-4ced-e81f-53571cee67a6"
   },
   "outputs": [
    {
     "data": {
      "text/plain": [
       "(1490, 9927)"
      ]
     },
     "execution_count": 15,
     "metadata": {},
     "output_type": "execute_result"
    }
   ],
   "source": [
    "#Get a feel of the features identified by tfidf\n",
    "\n",
    "features.shape # How many features are there ? "
   ]
  },
  {
   "cell_type": "code",
   "execution_count": 16,
   "id": "w0MLMzGxw4aL",
   "metadata": {
    "colab": {
     "base_uri": "https://localhost:8080/"
    },
    "id": "w0MLMzGxw4aL",
    "outputId": "e09ba011-b968-4860-bbc0-1be66c044356"
   },
   "outputs": [
    {
     "data": {
      "text/plain": [
       "dict_items([('business', 0), ('tech', 1), ('politics', 2), ('sport', 3), ('entertainment', 4)])"
      ]
     },
     "execution_count": 16,
     "metadata": {},
     "output_type": "execute_result"
    }
   ],
   "source": [
    "# Remember the dictionary created to map category names to a number ? \n",
    "category_to_id.items()"
   ]
  },
  {
   "cell_type": "code",
   "execution_count": 17,
   "id": "-1fK_ca3xeki",
   "metadata": {
    "colab": {
     "base_uri": "https://localhost:8080/"
    },
    "id": "-1fK_ca3xeki",
    "outputId": "8082dc95-d778-40c7-f4a7-276c4f91f44e"
   },
   "outputs": [
    {
     "data": {
      "text/plain": [
       "[('business', 0),\n",
       " ('entertainment', 4),\n",
       " ('politics', 2),\n",
       " ('sport', 3),\n",
       " ('tech', 1)]"
      ]
     },
     "execution_count": 17,
     "metadata": {},
     "output_type": "execute_result"
    }
   ],
   "source": [
    "# The sorted function Converts dictionary items into a (sorted) list. \n",
    "# In subsequent steps - We will use this list to iterate over the categories\n",
    "sorted(category_to_id.items())"
   ]
  },
  {
   "cell_type": "code",
   "execution_count": 18,
   "id": "A-PXkQzCxeno",
   "metadata": {
    "colab": {
     "base_uri": "https://localhost:8080/"
    },
    "id": "A-PXkQzCxeno",
    "outputId": "ae64fdef-62f6-4822-f281-3327e5828744"
   },
   "outputs": [
    {
     "name": "stdout",
     "output_type": "stream",
     "text": [
      "# 'business':\n",
      "  . Most correlated unigrams:\n",
      "       . growth\n",
      "       . bank\n",
      "       . shares\n",
      "  . Most correlated bigrams:\n",
      "       . stock market\n",
      "       . economic growth\n",
      "       . analysts said\n",
      "# 'entertainment':\n",
      "  . Most correlated unigrams:\n",
      "       . singer\n",
      "       . actor\n",
      "       . film\n",
      "  . Most correlated bigrams:\n",
      "       . won best\n",
      "       . los angeles\n",
      "       . box office\n",
      "# 'politics':\n",
      "  . Most correlated unigrams:\n",
      "       . blair\n",
      "       . election\n",
      "       . labour\n",
      "  . Most correlated bigrams:\n",
      "       . prime minister\n",
      "       . tony blair\n",
      "       . mr blair\n",
      "# 'sport':\n",
      "  . Most correlated unigrams:\n",
      "       . match\n",
      "       . coach\n",
      "       . cup\n",
      "  . Most correlated bigrams:\n",
      "       . grand slam\n",
      "       . champions league\n",
      "       . australian open\n",
      "# 'tech':\n",
      "  . Most correlated unigrams:\n",
      "       . technology\n",
      "       . software\n",
      "       . users\n",
      "  . Most correlated bigrams:\n",
      "       . anti virus\n",
      "       . mobile phones\n",
      "       . mobile phone\n"
     ]
    }
   ],
   "source": [
    "# Use chi-square analysis to find corelation between features (importantce of words) and labels(news category) \n",
    "from sklearn.feature_selection import chi2\n",
    "\n",
    "N = 3  # We are going to look for top 3 categories\n",
    "\n",
    "#For each category, find words that are highly corelated to it\n",
    "for Category, category_id in sorted(category_to_id.items()):\n",
    "  features_chi2 = chi2(features, labels == category_id)                   # Do chi2 analyses of all items in this category\n",
    "  indices = np.argsort(features_chi2[0])                                  # Sorts the indices of features_chi2[0] - the chi-squared stats of each feature\n",
    "  feature_names = np.array(tfidf.get_feature_names())[indices]            # Converts indices to feature names ( in increasing order of chi-squared stat values)\n",
    "  unigrams = [v for v in feature_names if len(v.split(' ')) == 1]         # List of single word features ( in increasing order of chi-squared stat values)\n",
    "  bigrams = [v for v in feature_names if len(v.split(' ')) == 2]          # List for two-word features ( in increasing order of chi-squared stat values)\n",
    "  print(\"# '{}':\".format(Category))\n",
    "  print(\"  . Most correlated unigrams:\\n       . {}\".format('\\n       . '.join(unigrams[-N:]))) # Print 3 unigrams with highest Chi squared stat\n",
    "  print(\"  . Most correlated bigrams:\\n       . {}\".format('\\n       . '.join(bigrams[-N:]))) # Print 3 bigrams with highest Chi squared stat"
   ]
  },
  {
   "cell_type": "code",
   "execution_count": 19,
   "id": "zNuPh3d8xerA",
   "metadata": {
    "colab": {
     "base_uri": "https://localhost:8080/"
    },
    "id": "zNuPh3d8xerA",
    "outputId": "0c807a27-882d-4829-f9dd-aae3c65da953"
   },
   "outputs": [
    {
     "data": {
      "text/plain": [
       "(array([0.13345481, 0.01563765, 0.00108776, ..., 0.00812363, 0.15434356,\n",
       "        0.120306  ]),\n",
       " array([0.71487652, 0.9004835 , 0.97368962, ..., 0.92818297, 0.69441858,\n",
       "        0.72870284]))"
      ]
     },
     "execution_count": 19,
     "metadata": {},
     "output_type": "execute_result"
    }
   ],
   "source": [
    "features_chi2"
   ]
  },
  {
   "cell_type": "code",
   "execution_count": 20,
   "id": "HhGsAhAGxet5",
   "metadata": {
    "id": "HhGsAhAGxet5"
   },
   "outputs": [],
   "source": [
    "from sklearn.manifold import TSNE\n",
    "\n",
    "# Sampling a subset of our dataset because t-SNE is computationally expensive\n",
    "SAMPLE_SIZE = int(len(features) * 0.3)\n",
    "np.random.seed(0)\n",
    "indices = np.random.choice(range(len(features)), size=SAMPLE_SIZE, replace=False)          # Randomly select 30 % of samples\n",
    "projected_features = TSNE(n_components=2, random_state=0).fit_transform(features[indices]) # Array of all projected features of 30% of Randomly chosen samples "
   ]
  },
  {
   "cell_type": "code",
   "execution_count": 21,
   "id": "cmFI4gbBxew1",
   "metadata": {
    "colab": {
     "base_uri": "https://localhost:8080/"
    },
    "id": "cmFI4gbBxew1",
    "outputId": "1d16230e-1ef5-4737-a8d7-49932907058b"
   },
   "outputs": [
    {
     "data": {
      "text/plain": [
       "numpy.ndarray"
      ]
     },
     "execution_count": 21,
     "metadata": {},
     "output_type": "execute_result"
    }
   ],
   "source": [
    "type(projected_features)"
   ]
  },
  {
   "cell_type": "code",
   "execution_count": 22,
   "id": "UBVg4xdQxezp",
   "metadata": {
    "colab": {
     "base_uri": "https://localhost:8080/"
    },
    "id": "UBVg4xdQxezp",
    "outputId": "7ad3a197-9ee6-4187-e0d9-a065f4c94d79"
   },
   "outputs": [
    {
     "data": {
      "text/plain": [
       "array([[-17.409828  , -20.436989  ],\n",
       "       [ -9.56882   , -11.314312  ],\n",
       "       [-17.156994  ,  -6.452465  ],\n",
       "       [-10.862223  , -21.660397  ],\n",
       "       [-19.501608  ,   4.6090965 ],\n",
       "       [-11.990335  , -16.382895  ],\n",
       "       [-27.134926  ,  -2.8496113 ],\n",
       "       [ -9.668595  , -17.357132  ],\n",
       "       [  8.465661  ,  -9.051764  ],\n",
       "       [-19.876314  ,  -9.820042  ],\n",
       "       [  2.6430216 ,   3.9847393 ],\n",
       "       [-15.166494  , -10.5767145 ],\n",
       "       [ 15.052534  , -22.136509  ],\n",
       "       [-29.180244  , -15.261823  ],\n",
       "       [-11.231472  , -24.399818  ],\n",
       "       [-13.417371  , -11.908246  ],\n",
       "       [ -8.409627  , -11.635613  ],\n",
       "       [-11.572334  , -18.307085  ],\n",
       "       [-17.998095  , -14.864076  ],\n",
       "       [-26.832064  ,  -5.992347  ],\n",
       "       [ -0.91015923, -20.449903  ],\n",
       "       [-23.755339  , -14.732829  ],\n",
       "       [-17.284416  ,  -6.835661  ],\n",
       "       [-22.186396  , -10.912631  ],\n",
       "       [-11.207357  , -14.555125  ],\n",
       "       [-25.065447  , -10.098723  ],\n",
       "       [-22.816729  , -12.928076  ],\n",
       "       [-27.67401   , -10.1719885 ],\n",
       "       [ -9.118339  , -11.99525   ],\n",
       "       [-27.955767  , -10.499625  ],\n",
       "       [-26.545292  , -16.161661  ],\n",
       "       [-24.027119  , -16.473694  ],\n",
       "       [-14.79516   , -15.272359  ],\n",
       "       [ -6.3705096 ,  -7.112831  ],\n",
       "       [-14.128602  , -10.302936  ],\n",
       "       [ -9.533747  , -18.610142  ],\n",
       "       [-17.766403  , -18.052103  ],\n",
       "       [-16.84345   ,  -4.4271884 ],\n",
       "       [-11.293458  ,  -6.5615234 ],\n",
       "       [-10.506294  , -23.221987  ],\n",
       "       [-15.011385  ,  -3.6810048 ],\n",
       "       [-10.639915  , -13.557691  ],\n",
       "       [-12.014518  , -17.190329  ],\n",
       "       [-13.971309  ,  -4.182933  ],\n",
       "       [-25.494864  ,  -4.9497595 ],\n",
       "       [-27.915266  , -14.56043   ],\n",
       "       [-23.54696   , -20.41746   ],\n",
       "       [-15.415271  , -14.031589  ],\n",
       "       [ -6.3032465 ,  -7.0108976 ],\n",
       "       [-12.148467  , -25.222383  ],\n",
       "       [-15.740036  ,  -7.494536  ],\n",
       "       [-20.210625  , -13.451053  ],\n",
       "       [-24.854723  , -12.600436  ],\n",
       "       [ -2.8075676 , -15.790843  ],\n",
       "       [-23.797077  , -21.474707  ],\n",
       "       [-18.6075    , -10.536056  ],\n",
       "       [-10.798013  ,  -5.128354  ],\n",
       "       [-24.066378  , -16.331705  ],\n",
       "       [-12.710615  , -24.530416  ],\n",
       "       [  5.8064203 ,  11.155043  ],\n",
       "       [-23.962528  , -22.120123  ],\n",
       "       [-27.289322  ,  -6.720196  ],\n",
       "       [-20.56851   ,   4.343873  ],\n",
       "       [-18.200233  ,  -5.644349  ],\n",
       "       [-12.961266  , -22.224607  ],\n",
       "       [-20.417652  , -17.757792  ],\n",
       "       [-14.251963  ,  -5.1104255 ],\n",
       "       [-17.557909  , -20.306105  ],\n",
       "       [ -7.31841   , -15.609733  ],\n",
       "       [-22.45034   ,  -5.631934  ],\n",
       "       [-28.58256   ,  -4.901768  ],\n",
       "       [-25.14362   ,  -7.95412   ],\n",
       "       [-27.86038   , -17.526392  ],\n",
       "       [-28.206268  ,  -9.368433  ],\n",
       "       [-21.77698   , -17.196274  ],\n",
       "       [-27.263964  , -13.890188  ],\n",
       "       [-13.259843  , -16.125927  ],\n",
       "       [-28.56485   , -17.196064  ],\n",
       "       [-20.395626  , -13.975158  ],\n",
       "       [-19.20463   , -20.195503  ],\n",
       "       [ -3.1221137 , -11.877743  ],\n",
       "       [-11.75413   ,  -9.128307  ],\n",
       "       [ -8.907274  , -16.56575   ],\n",
       "       [-10.164448  ,  -4.1474376 ],\n",
       "       [-15.054415  ,  -5.537093  ],\n",
       "       [-17.066496  ,  -9.248455  ],\n",
       "       [-16.2962    , -22.28306   ],\n",
       "       [ -6.9397926 ,  -9.657516  ],\n",
       "       [-19.767227  , -18.181358  ],\n",
       "       [-17.893063  , -10.634359  ],\n",
       "       [  8.175356  ,  -9.073679  ],\n",
       "       [-24.549088  , -13.045889  ],\n",
       "       [-17.425495  , -12.520438  ],\n",
       "       [-18.223188  , -14.978001  ],\n",
       "       [-10.478902  , -22.389202  ],\n",
       "       [-29.765429  ,  -4.5992327 ],\n",
       "       [-28.82487   ,  -6.6644073 ],\n",
       "       [-13.227771  ,  -9.51348   ],\n",
       "       [-27.321543  ,  -2.9115357 ],\n",
       "       [ -0.7873483 ,   8.046617  ],\n",
       "       [-22.850811  ,  -5.6954923 ],\n",
       "       [-14.511301  , -19.545353  ],\n",
       "       [-12.932711  , -19.588549  ]], dtype=float32)"
      ]
     },
     "execution_count": 22,
     "metadata": {},
     "output_type": "execute_result"
    }
   ],
   "source": [
    "my_id = 0 # Select a category_id\n",
    "projected_features[(labels[indices] == my_id).values]"
   ]
  },
  {
   "cell_type": "code",
   "execution_count": 23,
   "id": "X7UKegdCxe22",
   "metadata": {
    "colab": {
     "base_uri": "https://localhost:8080/",
     "height": 300
    },
    "id": "X7UKegdCxe22",
    "outputId": "445e124a-7853-46d5-d0b8-84ecbf622990"
   },
   "outputs": [
    {
     "data": {
      "text/plain": [
       "<matplotlib.legend.Legend at 0x7fb4cc1aa610>"
      ]
     },
     "execution_count": 23,
     "metadata": {},
     "output_type": "execute_result"
    },
    {
     "data": {
      "image/png": "[encoded data removed]",
      "text/plain": [
       "<Figure size 432x288 with 1 Axes>"
      ]
     },
     "metadata": {
      "needs_background": "light"
     },
     "output_type": "display_data"
    }
   ],
   "source": [
    "colors = ['pink', 'green', 'midnightblue', 'orange', 'darkgrey']\n",
    "\n",
    "\n",
    "# Find points belonging to each category and plot them\n",
    "for category, category_id in sorted(category_to_id.items()):\n",
    "    points = projected_features[(labels[indices] == category_id).values]\n",
    "    plt.scatter(points[:, 0], points[:, 1], s=30, c=colors[category_id], label=category)\n",
    "plt.title(\"tf-idf feature vector for each article, projected on 2 dimensions.\",\n",
    "          fontdict=dict(fontsize=15))\n",
    "plt.legend()"
   ]
  },
  {
   "cell_type": "code",
   "execution_count": 24,
   "id": "O8WuQii4x51N",
   "metadata": {
    "id": "O8WuQii4x51N"
   },
   "outputs": [],
   "source": [
    "from sklearn.linear_model import LogisticRegression\n",
    "from sklearn.ensemble import RandomForestClassifier\n",
    "from sklearn.naive_bayes import MultinomialNB\n",
    "\n",
    "from sklearn.model_selection import cross_val_score\n",
    "\n",
    "\n",
    "models = [\n",
    "    RandomForestClassifier(n_estimators=200, max_depth=3, random_state=0),\n",
    "    MultinomialNB(),\n",
    "    LogisticRegression(random_state=0),\n",
    "]"
   ]
  },
  {
   "cell_type": "markdown",
   "id": "eb2e5a03",
   "metadata": {},
   "source": [
    "#### Cross Validate with 5 different folds of 20% data"
   ]
  },
  {
   "cell_type": "code",
   "execution_count": 25,
   "id": "D_VspN-gx54J",
   "metadata": {
    "id": "D_VspN-gx54J"
   },
   "outputs": [],
   "source": [
    "CV = 5  # Cross Validate with 5 different folds of 20% data ( 80-20 split with 5 folds )\n",
    "\n",
    "#Create a data frame that will store the results for all 5 trials of the 3 different models\n",
    "cv_df = pd.DataFrame(index=range(CV * len(models)))\n",
    "entries = [] # Initially all entries are empty"
   ]
  },
  {
   "cell_type": "code",
   "execution_count": 26,
   "id": "hDoeGe0gx57Z",
   "metadata": {
    "id": "hDoeGe0gx57Z"
   },
   "outputs": [],
   "source": [
    "#For each Algorithm \n",
    "for model in models:\n",
    "  model_name = model.__class__.__name__\n",
    "  # create 5 models with different 20% test sets, and store their accuracies\n",
    "  accuracies = cross_val_score(model, features, labels, scoring='accuracy', cv=CV)\n",
    "  # Append all 5 accuracies into the entries list ( after all 3 models are run, there will be 3x5 = 15 entries)\n",
    "  for fold_idx, accuracy in enumerate(accuracies):\n",
    "    entries.append((model_name, fold_idx, accuracy))"
   ]
  },
  {
   "cell_type": "code",
   "execution_count": 27,
   "id": "UFfHs3dXx5-J",
   "metadata": {
    "id": "UFfHs3dXx5-J"
   },
   "outputs": [],
   "source": [
    "# Store the entries into the results dataframe and name its columns    \n",
    "cv_df = pd.DataFrame(entries, columns=['model_name', 'fold_idx', 'accuracy'])"
   ]
  },
  {
   "cell_type": "code",
   "execution_count": 28,
   "id": "A9zTvotAx6A_",
   "metadata": {
    "colab": {
     "base_uri": "https://localhost:8080/",
     "height": 297
    },
    "id": "A9zTvotAx6A_",
    "outputId": "54621a59-5ca4-480e-9bf1-f60031afb4b2"
   },
   "outputs": [
    {
     "data": {
      "text/plain": [
       "<matplotlib.axes._subplots.AxesSubplot at 0x7fb4cba569d0>"
      ]
     },
     "execution_count": 28,
     "metadata": {},
     "output_type": "execute_result"
    },
    {
     "data": {
      "image/png": "[encoded data removed]",
      "text/plain": [
       "<Figure size 432x288 with 1 Axes>"
      ]
     },
     "metadata": {
      "needs_background": "light"
     },
     "output_type": "display_data"
    }
   ],
   "source": [
    "import seaborn as sns\n",
    "\n",
    "sns.boxplot(x='model_name', y='accuracy', data=cv_df)\n",
    "sns.stripplot(x='model_name', y='accuracy', data=cv_df, \n",
    "              size=8, jitter=True, edgecolor=\"gray\", linewidth=2)"
   ]
  },
  {
   "cell_type": "code",
   "execution_count": 29,
   "id": "OvF7v4Hexe6C",
   "metadata": {
    "colab": {
     "base_uri": "https://localhost:8080/"
    },
    "id": "OvF7v4Hexe6C",
    "outputId": "b63859fa-f30b-48ec-f887-11312d316e85"
   },
   "outputs": [
    {
     "data": {
      "text/plain": [
       "model_name\n",
       "LogisticRegression        0.975168\n",
       "MultinomialNB             0.972483\n",
       "RandomForestClassifier    0.848322\n",
       "Name: accuracy, dtype: float64"
      ]
     },
     "execution_count": 29,
     "metadata": {},
     "output_type": "execute_result"
    }
   ],
   "source": [
    "# Mean accuracy of each algorithm\n",
    "cv_df.groupby('model_name').accuracy.mean()"
   ]
  },
  {
   "cell_type": "code",
   "execution_count": 30,
   "id": "qYboLjb1ZEo9",
   "metadata": {
    "colab": {
     "base_uri": "https://localhost:8080/",
     "height": 514
    },
    "id": "qYboLjb1ZEo9",
    "outputId": "5f4218be-8727-4e28-f0df-b44b158296b2"
   },
   "outputs": [
    {
     "data": {
      "text/html": [
       "<div>\n",
       "<style scoped>\n",
       "    .dataframe tbody tr th:only-of-type {\n",
       "        vertical-align: middle;\n",
       "    }\n",
       "\n",
       "    .dataframe tbody tr th {\n",
       "        vertical-align: top;\n",
       "    }\n",
       "\n",
       "    .dataframe thead th {\n",
       "        text-align: right;\n",
       "    }\n",
       "</style>\n",
       "<table border=\"1\" class=\"dataframe\">\n",
       "  <thead>\n",
       "    <tr style=\"text-align: right;\">\n",
       "      <th></th>\n",
       "      <th>model_name</th>\n",
       "      <th>fold_idx</th>\n",
       "      <th>accuracy</th>\n",
       "    </tr>\n",
       "  </thead>\n",
       "  <tbody>\n",
       "    <tr>\n",
       "      <th>0</th>\n",
       "      <td>RandomForestClassifier</td>\n",
       "      <td>0</td>\n",
       "      <td>0.838926</td>\n",
       "    </tr>\n",
       "    <tr>\n",
       "      <th>1</th>\n",
       "      <td>RandomForestClassifier</td>\n",
       "      <td>1</td>\n",
       "      <td>0.818792</td>\n",
       "    </tr>\n",
       "    <tr>\n",
       "      <th>2</th>\n",
       "      <td>RandomForestClassifier</td>\n",
       "      <td>2</td>\n",
       "      <td>0.828859</td>\n",
       "    </tr>\n",
       "    <tr>\n",
       "      <th>3</th>\n",
       "      <td>RandomForestClassifier</td>\n",
       "      <td>3</td>\n",
       "      <td>0.875839</td>\n",
       "    </tr>\n",
       "    <tr>\n",
       "      <th>4</th>\n",
       "      <td>RandomForestClassifier</td>\n",
       "      <td>4</td>\n",
       "      <td>0.879195</td>\n",
       "    </tr>\n",
       "    <tr>\n",
       "      <th>5</th>\n",
       "      <td>MultinomialNB</td>\n",
       "      <td>0</td>\n",
       "      <td>0.969799</td>\n",
       "    </tr>\n",
       "    <tr>\n",
       "      <th>6</th>\n",
       "      <td>MultinomialNB</td>\n",
       "      <td>1</td>\n",
       "      <td>0.959732</td>\n",
       "    </tr>\n",
       "    <tr>\n",
       "      <th>7</th>\n",
       "      <td>MultinomialNB</td>\n",
       "      <td>2</td>\n",
       "      <td>0.983221</td>\n",
       "    </tr>\n",
       "    <tr>\n",
       "      <th>8</th>\n",
       "      <td>MultinomialNB</td>\n",
       "      <td>3</td>\n",
       "      <td>0.979866</td>\n",
       "    </tr>\n",
       "    <tr>\n",
       "      <th>9</th>\n",
       "      <td>MultinomialNB</td>\n",
       "      <td>4</td>\n",
       "      <td>0.969799</td>\n",
       "    </tr>\n",
       "    <tr>\n",
       "      <th>10</th>\n",
       "      <td>LogisticRegression</td>\n",
       "      <td>0</td>\n",
       "      <td>0.973154</td>\n",
       "    </tr>\n",
       "    <tr>\n",
       "      <th>11</th>\n",
       "      <td>LogisticRegression</td>\n",
       "      <td>1</td>\n",
       "      <td>0.963087</td>\n",
       "    </tr>\n",
       "    <tr>\n",
       "      <th>12</th>\n",
       "      <td>LogisticRegression</td>\n",
       "      <td>2</td>\n",
       "      <td>0.983221</td>\n",
       "    </tr>\n",
       "    <tr>\n",
       "      <th>13</th>\n",
       "      <td>LogisticRegression</td>\n",
       "      <td>3</td>\n",
       "      <td>0.979866</td>\n",
       "    </tr>\n",
       "    <tr>\n",
       "      <th>14</th>\n",
       "      <td>LogisticRegression</td>\n",
       "      <td>4</td>\n",
       "      <td>0.976510</td>\n",
       "    </tr>\n",
       "  </tbody>\n",
       "</table>\n",
       "</div>"
      ],
      "text/plain": [
       "                model_name  fold_idx  accuracy\n",
       "0   RandomForestClassifier         0  0.838926\n",
       "1   RandomForestClassifier         1  0.818792\n",
       "2   RandomForestClassifier         2  0.828859\n",
       "3   RandomForestClassifier         3  0.875839\n",
       "4   RandomForestClassifier         4  0.879195\n",
       "5            MultinomialNB         0  0.969799\n",
       "6            MultinomialNB         1  0.959732\n",
       "7            MultinomialNB         2  0.983221\n",
       "8            MultinomialNB         3  0.979866\n",
       "9            MultinomialNB         4  0.969799\n",
       "10      LogisticRegression         0  0.973154\n",
       "11      LogisticRegression         1  0.963087\n",
       "12      LogisticRegression         2  0.983221\n",
       "13      LogisticRegression         3  0.979866\n",
       "14      LogisticRegression         4  0.976510"
      ]
     },
     "execution_count": 30,
     "metadata": {},
     "output_type": "execute_result"
    }
   ],
   "source": [
    "cv_df"
   ]
  },
  {
   "cell_type": "code",
   "execution_count": 32,
   "id": "VnSFpJmsZEr0",
   "metadata": {
    "id": "VnSFpJmsZEr0"
   },
   "outputs": [],
   "source": [
    "from sklearn.model_selection import train_test_split\n",
    "\n",
    "model = LogisticRegression(random_state=0)\n",
    "\n",
    "#Split Data \n",
    "X_train, X_test, y_train, y_test, indices_train, indices_test = train_test_split(features, labels, df_train.index, test_size=0.33, random_state=0)\n",
    "\n",
    "#Train Algorithm\n",
    "model.fit(X_train, y_train)\n",
    "\n",
    "# Make Predictions\n",
    "y_pred_proba = model.predict_proba(X_test)\n",
    "y_pred = model.predict(X_test)"
   ]
  },
  {
   "cell_type": "code",
   "execution_count": 33,
   "id": "NVx_Aa9LZEus",
   "metadata": {
    "colab": {
     "base_uri": "https://localhost:8080/",
     "height": 296
    },
    "id": "NVx_Aa9LZEus",
    "outputId": "f545e8ee-0c40-4ed3-90db-0eac43f0e0f1"
   },
   "outputs": [
    {
     "data": {
      "text/plain": [
       "Text(0.5, 15.0, 'Predicted')"
      ]
     },
     "execution_count": 33,
     "metadata": {},
     "output_type": "execute_result"
    },
    {
     "data": {
      "image/png": "[encoded data removed]",
      "text/plain": [
       "<Figure size 432x288 with 2 Axes>"
      ]
     },
     "metadata": {
      "needs_background": "light"
     },
     "output_type": "display_data"
    }
   ],
   "source": [
    "from sklearn.metrics import confusion_matrix\n",
    "import seaborn as sns\n",
    "\n",
    "conf_mat = confusion_matrix(y_test, y_pred)\n",
    "sns.heatmap(conf_mat, annot=True, fmt='d',\n",
    "            xticklabels=category_id_df.Category.values, yticklabels=category_id_df.Category.values)\n",
    "plt.ylabel('Actual')\n",
    "plt.xlabel('Predicted')"
   ]
  },
  {
   "cell_type": "code",
   "execution_count": 35,
   "id": "YVqOnhfcZExr",
   "metadata": {
    "colab": {
     "base_uri": "https://localhost:8080/",
     "height": 357
    },
    "id": "YVqOnhfcZExr",
    "outputId": "b6b82b76-8f49-4b6a-ba94-ae3cbd759d36"
   },
   "outputs": [
    {
     "name": "stdout",
     "output_type": "stream",
     "text": [
      "'tech' predicted as 'business' : 2 examples.\n"
     ]
    },
    {
     "data": {
      "text/plain": [
       "641    us woman sues over cartridges a us woman is su...\n",
       "549    man auctions ad space on forehead a 20-year-ol...\n",
       "Name: Text, dtype: object"
      ]
     },
     "metadata": {},
     "output_type": "display_data"
    },
    {
     "name": "stdout",
     "output_type": "stream",
     "text": [
      "\n",
      "'politics' predicted as 'business' : 2 examples.\n"
     ]
    },
    {
     "data": {
      "text/plain": [
       "962    hatfield executives go on trial engineering fi...\n",
       "249    eu fraud clampdown urged eu member states are ...\n",
       "Name: Text, dtype: object"
      ]
     },
     "metadata": {},
     "output_type": "display_data"
    },
    {
     "name": "stdout",
     "output_type": "stream",
     "text": [
      "\n",
      "'business' predicted as 'sport' : 2 examples.\n"
     ]
    },
    {
     "data": {
      "text/plain": [
       "61     arsenal  may seek full share listing  arsenal ...\n",
       "728    christmas shoppers flock to tills shops all ov...\n",
       "Name: Text, dtype: object"
      ]
     },
     "metadata": {},
     "output_type": "display_data"
    },
    {
     "name": "stdout",
     "output_type": "stream",
     "text": [
      "\n",
      "'tech' predicted as 'entertainment' : 2 examples.\n"
     ]
    },
    {
     "data": {
      "text/plain": [
       "1091    ultimate game  award for doom 3 sci-fi shooter...\n",
       "1115    ultimate game  award for doom 3 sci-fi shooter...\n",
       "Name: Text, dtype: object"
      ]
     },
     "metadata": {},
     "output_type": "display_data"
    },
    {
     "name": "stdout",
     "output_type": "stream",
     "text": [
      "\n"
     ]
    }
   ],
   "source": [
    "from IPython.display import display\n",
    "\n",
    "for predicted in category_id_df.category_id:\n",
    "  for actual in category_id_df.category_id:\n",
    "    if predicted != actual and conf_mat[actual, predicted] >= 2:\n",
    "      print(\"'{}' predicted as '{}' : {} examples.\".format(id_to_category[actual], id_to_category[predicted], conf_mat[actual, predicted]))\n",
    "      display(df_train.loc[indices_test[(y_test == actual) & (y_pred == predicted)]]['Text'])\n",
    "      print('')"
   ]
  },
  {
   "cell_type": "code",
   "execution_count": 36,
   "id": "oJnda-vsZE0-",
   "metadata": {
    "colab": {
     "base_uri": "https://localhost:8080/"
    },
    "id": "oJnda-vsZE0-",
    "outputId": "9ff525db-3d5e-44a4-d86c-cc1b8143240a"
   },
   "outputs": [
    {
     "data": {
      "text/plain": [
       "LogisticRegression(C=1.0, class_weight=None, dual=False, fit_intercept=True,\n",
       "                   intercept_scaling=1, l1_ratio=None, max_iter=100,\n",
       "                   multi_class='auto', n_jobs=None, penalty='l2',\n",
       "                   random_state=0, solver='lbfgs', tol=0.0001, verbose=0,\n",
       "                   warm_start=False)"
      ]
     },
     "execution_count": 36,
     "metadata": {},
     "output_type": "execute_result"
    }
   ],
   "source": [
    "model.fit(features, labels)"
   ]
  },
  {
   "cell_type": "code",
   "execution_count": 37,
   "id": "jtNGfPfxZE3N",
   "metadata": {
    "colab": {
     "base_uri": "https://localhost:8080/"
    },
    "id": "jtNGfPfxZE3N",
    "outputId": "18228b9e-f2c1-43d2-e4b4-88d16cb23b16"
   },
   "outputs": [
    {
     "data": {
      "text/plain": [
       "array([[ 0.46799432,  0.01813872, -0.0715333 , ..., -0.03318298,\n",
       "         0.0068823 , -0.02849203],\n",
       "       [-0.02957523, -0.04366737, -0.01371468, ...,  0.00362675,\n",
       "        -0.02877942, -0.02070068],\n",
       "       [ 0.05006025, -0.05159908, -0.04674601, ..., -0.00638322,\n",
       "        -0.03112648, -0.02362395],\n",
       "       [-0.61687406, -0.04152046, -0.05352312, ...,  0.08450437,\n",
       "         0.08574049,  0.09981232],\n",
       "       [ 0.12839471,  0.11864819,  0.18551711, ..., -0.04856492,\n",
       "        -0.03271689, -0.02699566]])"
      ]
     },
     "execution_count": 37,
     "metadata": {},
     "output_type": "execute_result"
    }
   ],
   "source": [
    "# model.coef_ contains the importance of each feature for each category\n",
    "model.coef_"
   ]
  },
  {
   "cell_type": "code",
   "execution_count": 38,
   "id": "NcPsiHPFZE6p",
   "metadata": {
    "colab": {
     "base_uri": "https://localhost:8080/"
    },
    "id": "NcPsiHPFZE6p",
    "outputId": "fcb18853-5e45-48e0-e9ce-89a4c23084bc"
   },
   "outputs": [
    {
     "name": "stdout",
     "output_type": "stream",
     "text": [
      "# 'business':\n",
      "  . Top unigrams:\n",
      "       . firm\n",
      "       . bank\n",
      "       . company\n",
      "       . shares\n",
      "       . market\n",
      "  . Top bigrams:\n",
      "       . chief executive\n",
      "       . analysts said\n",
      "       . stock market\n",
      "       . economic growth\n",
      "       . oil prices\n",
      "# 'entertainment':\n",
      "  . Top unigrams:\n",
      "       . film\n",
      "       . music\n",
      "       . singer\n",
      "       . star\n",
      "       . band\n",
      "  . Top bigrams:\n",
      "       . box office\n",
      "       . los angeles\n",
      "       . film festival\n",
      "       . new york\n",
      "       . big brother\n",
      "# 'politics':\n",
      "  . Top unigrams:\n",
      "       . labour\n",
      "       . mr\n",
      "       . party\n",
      "       . election\n",
      "       . government\n",
      "  . Top bigrams:\n",
      "       . mr blair\n",
      "       . prime minister\n",
      "       . tony blair\n",
      "       . general election\n",
      "       . mr brown\n",
      "# 'sport':\n",
      "  . Top unigrams:\n",
      "       . match\n",
      "       . win\n",
      "       . game\n",
      "       . coach\n",
      "       . cup\n",
      "  . Top bigrams:\n",
      "       . year old\n",
      "       . australian open\n",
      "       . champions league\n",
      "       . world cup\n",
      "       . grand slam\n",
      "# 'tech':\n",
      "  . Top unigrams:\n",
      "       . users\n",
      "       . software\n",
      "       . computer\n",
      "       . technology\n",
      "       . online\n",
      "  . Top bigrams:\n",
      "       . said mr\n",
      "       . news website\n",
      "       . bbc news\n",
      "       . mobile phone\n",
      "       . mobile phones\n"
     ]
    }
   ],
   "source": [
    "from sklearn.feature_selection import chi2\n",
    "\n",
    "N = 5\n",
    "for Category, category_id in sorted(category_to_id.items()):\n",
    "  indices = np.argsort(model.coef_[category_id])   # This time using the model co-eficients / weights\n",
    "  feature_names = np.array(tfidf.get_feature_names())[indices]\n",
    "  unigrams = [v for v in reversed(feature_names) if len(v.split(' ')) == 1][:N]\n",
    "  bigrams = [v for v in reversed(feature_names) if len(v.split(' ')) == 2][:N]\n",
    "  print(\"# '{}':\".format(Category))\n",
    "  print(\"  . Top unigrams:\\n       . {}\".format('\\n       . '.join(unigrams)))\n",
    "  print(\"  . Top bigrams:\\n       . {}\".format('\\n       . '.join(bigrams)))"
   ]
  },
  {
   "cell_type": "code",
   "execution_count": 39,
   "id": "OqP4BHYkZvfe",
   "metadata": {
    "colab": {
     "base_uri": "https://localhost:8080/"
    },
    "id": "OqP4BHYkZvfe",
    "outputId": "9e04331f-f1cc-459d-b0ef-bb2e65b46f21"
   },
   "outputs": [
    {
     "name": "stdout",
     "output_type": "stream",
     "text": [
      "\"Hooli stock price soared after a dip in PiedPiper revenue growth.\"\n",
      "  - Predicted as: 'business'\n",
      "\n",
      "\"Captain Tsubasa scores a magnificent goal for the Japanese team.\"\n",
      "  - Predicted as: 'sport'\n",
      "\n",
      "\"Merryweather mercenaries are sent on another mission, as government oversight groups call for new sanctions.\"\n",
      "  - Predicted as: 'business'\n",
      "\n",
      "\"Beyoncé releases a new album, tops the charts in all of south-east Asia!\"\n",
      "  - Predicted as: 'entertainment'\n",
      "\n",
      "\"You won't guess what the latest trend in data analysis is!\"\n",
      "  - Predicted as: 'tech'\n",
      "\n"
     ]
    }
   ],
   "source": [
    "texts = [\"Hooli stock price soared after a dip in PiedPiper revenue growth.\",\n",
    "         \"Captain Tsubasa scores a magnificent goal for the Japanese team.\",\n",
    "         \"Merryweather mercenaries are sent on another mission, as government oversight groups call for new sanctions.\",\n",
    "         \"Beyoncé releases a new album, tops the charts in all of south-east Asia!\",\n",
    "         \"You won't guess what the latest trend in data analysis is!\"]\n",
    "text_features = tfidf.transform(texts)\n",
    "predictions = model.predict(text_features)\n",
    "for text, predicted in zip(texts, predictions):\n",
    "  print('\"{}\"'.format(text))\n",
    "  print(\"  - Predicted as: '{}'\".format(id_to_category[predicted]))\n",
    "  print(\"\")"
   ]
  },
  {
   "cell_type": "markdown",
   "id": "1c7cfa02",
   "metadata": {},
   "source": [
    "### Load the data the Test set"
   ]
  },
  {
   "cell_type": "code",
   "execution_count": 43,
   "id": "9j18qioFZviS",
   "metadata": {
    "id": "9j18qioFZviS"
   },
   "outputs": [],
   "source": [
    "\n",
    "\n",
    "df_test = pd.read_csv(\"/content/drive/My Drive/AI_Project/NLP/BBC-News-Classification/Data/BBC News Test.csv\")\n",
    "\n",
    "#Load the data using pandas : Create a DataFrame\n",
    "#test_df = pd.read_csv(df_test)"
   ]
  },
  {
   "cell_type": "code",
   "execution_count": 44,
   "id": "st1FIy3nZvlT",
   "metadata": {
    "colab": {
     "base_uri": "https://localhost:8080/"
    },
    "id": "st1FIy3nZvlT",
    "outputId": "cf481ca2-0f84-4d53-e327-e9128bd917c7"
   },
   "outputs": [
    {
     "data": {
      "text/plain": [
       "array([3, 1, 3, 0, 3, 3, 2, 2, 4, 0, 0, 1, 2, 1, 4, 3, 2, 1, 4, 4, 0, 2,\n",
       "       3, 0, 2, 3, 0, 3, 3, 0, 2, 1, 0, 0, 3, 3, 3, 0, 4, 4, 1, 2, 4, 1,\n",
       "       3, 1, 4, 0, 2, 0, 2, 0, 0, 0, 1, 2, 1, 4, 3, 1, 3, 4, 1, 2, 0, 4,\n",
       "       3, 1, 3, 3, 0, 3, 0, 2, 1, 3, 1, 1, 1, 4, 2, 3, 4, 4, 0, 4, 0, 4,\n",
       "       0, 1, 0, 2, 3, 1, 3, 3, 3, 3, 3, 3, 2, 3, 2, 4, 0, 3, 2, 3, 2, 4,\n",
       "       3, 0, 4, 3, 2, 3, 2, 3, 2, 0, 4, 0, 4, 4, 1, 3, 0, 4, 0, 4, 0, 2,\n",
       "       2, 1, 0, 0, 2, 1, 4, 3, 0, 1, 3, 4, 2, 3, 3, 4, 4, 1, 0, 1, 2, 4,\n",
       "       3, 3, 3, 3, 4, 1, 0, 1, 0, 1, 0, 1, 4, 1, 1, 2, 0, 2, 0, 0, 4, 2,\n",
       "       1, 0, 0, 1, 3, 2, 3, 2, 1, 1, 2, 0, 2, 4, 2, 0, 4, 3, 1, 1, 0, 1,\n",
       "       2, 0, 3, 2, 0, 4, 0, 0, 3, 1, 0, 3, 4, 4, 3, 4, 3, 1, 2, 4, 3, 4,\n",
       "       3, 4, 2, 0, 1, 4, 0, 2, 0, 1, 0, 3, 2, 2, 0, 2, 3, 0, 4, 2, 3, 2,\n",
       "       0, 3, 1, 0, 2, 0, 2, 0, 0, 3, 1, 2, 4, 1, 4, 1, 3, 3, 1, 3, 3, 3,\n",
       "       4, 3, 2, 1, 0, 3, 0, 3, 0, 3, 4, 0, 0, 4, 2, 0, 3, 3, 1, 3, 3, 4,\n",
       "       0, 3, 1, 2, 4, 0, 0, 2, 3, 4, 2, 0, 3, 3, 1, 4, 3, 0, 1, 0, 3, 2,\n",
       "       2, 4, 2, 4, 2, 0, 2, 1, 0, 3, 1, 4, 2, 3, 2, 2, 1, 2, 3, 1, 2, 1,\n",
       "       1, 4, 0, 1, 2, 0, 2, 3, 1, 4, 4, 0, 3, 1, 1, 4, 1, 0, 3, 4, 1, 0,\n",
       "       2, 1, 1, 2, 2, 3, 0, 1, 3, 2, 2, 0, 1, 3, 2, 0, 2, 2, 1, 4, 0, 0,\n",
       "       3, 3, 3, 1, 3, 2, 1, 1, 2, 0, 3, 3, 4, 4, 3, 1, 1, 3, 1, 4, 2, 1,\n",
       "       3, 0, 2, 4, 0, 1, 3, 2, 0, 0, 2, 1, 3, 4, 0, 1, 0, 1, 3, 3, 2, 0,\n",
       "       1, 3, 2, 0, 0, 1, 2, 1, 0, 2, 0, 4, 0, 4, 2, 4, 3, 0, 2, 0, 3, 4,\n",
       "       0, 4, 4, 3, 1, 4, 0, 0, 2, 4, 2, 2, 3, 0, 0, 2, 4, 4, 0, 0, 3, 2,\n",
       "       1, 0, 2, 0, 3, 3, 2, 3, 1, 0, 2, 3, 2, 1, 0, 2, 1, 2, 2, 4, 1, 3,\n",
       "       3, 2, 0, 1, 2, 3, 3, 4, 0, 4, 4, 0, 2, 3, 0, 1, 1, 0, 2, 3, 0, 3,\n",
       "       0, 2, 0, 3, 2, 1, 3, 2, 0, 1, 2, 3, 2, 4, 3, 2, 0, 0, 0, 1, 2, 2,\n",
       "       3, 0, 1, 1, 1, 3, 1, 2, 0, 0, 3, 4, 2, 0, 1, 1, 3, 1, 0, 3, 0, 0,\n",
       "       0, 2, 2, 4, 4, 4, 2, 1, 1, 2, 4, 0, 3, 3, 2, 4, 2, 3, 0, 0, 0, 4,\n",
       "       1, 3, 0, 2, 2, 1, 2, 3, 2, 0, 1, 0, 3, 3, 1, 3, 4, 1, 4, 1, 3, 2,\n",
       "       0, 1, 2, 4, 4, 2, 0, 0, 1, 0, 0, 0, 3, 4, 0, 3, 0, 3, 1, 0, 2, 3,\n",
       "       0, 3, 3, 4, 2, 1, 3, 0, 3, 0, 3, 3, 2, 1, 0, 1, 0, 3, 1, 0, 4, 0,\n",
       "       4, 3, 1, 0, 0, 0, 2, 3, 4, 1, 0, 3, 4, 0, 4, 0, 2, 3, 3, 0, 1, 3,\n",
       "       0, 0, 0, 0, 0, 4, 1, 3, 2, 1, 2, 1, 3, 1, 4, 0, 0, 4, 2, 3, 3, 3,\n",
       "       4, 1, 2, 4, 3, 3, 2, 1, 2, 4, 3, 4, 3, 1, 1, 3, 3, 0, 1, 4, 0, 1,\n",
       "       0, 0, 3, 4, 2, 4, 0, 2, 0, 2, 3, 1, 1, 2, 4, 0, 1, 4, 4, 2, 0, 0,\n",
       "       2, 2, 1, 3, 0, 4, 2, 0, 2])"
      ]
     },
     "execution_count": 44,
     "metadata": {},
     "output_type": "execute_result"
    }
   ],
   "source": [
    "test_features = tfidf.transform(df_test.Text.tolist())\n",
    "\n",
    "Y_pred = model.predict(test_features)\n",
    "\n",
    "Y_pred"
   ]
  },
  {
   "cell_type": "code",
   "execution_count": 45,
   "id": "AzSq6DzSZvnh",
   "metadata": {
    "id": "AzSq6DzSZvnh"
   },
   "outputs": [],
   "source": [
    "# Since all predictions are in terms of \"Category IDs (numbers)\", need to convert back to Category name\n",
    "Y_pred_name =[]\n",
    "for cat_id in Y_pred :\n",
    "    Y_pred_name.append(id_to_category[cat_id])"
   ]
  },
  {
   "cell_type": "code",
   "execution_count": 46,
   "id": "ju4U_GCeZvqZ",
   "metadata": {
    "colab": {
     "base_uri": "https://localhost:8080/"
    },
    "id": "ju4U_GCeZvqZ",
    "outputId": "5a878d2a-171e-4e22-81fb-669a0a9798ed"
   },
   "outputs": [
    {
     "data": {
      "text/plain": [
       "['sport',\n",
       " 'tech',\n",
       " 'sport',\n",
       " 'business',\n",
       " 'sport',\n",
       " 'sport',\n",
       " 'politics',\n",
       " 'politics',\n",
       " 'entertainment',\n",
       " 'business',\n",
       " 'business',\n",
       " 'tech',\n",
       " 'politics',\n",
       " 'tech',\n",
       " 'entertainment',\n",
       " 'sport',\n",
       " 'politics',\n",
       " 'tech',\n",
       " 'entertainment',\n",
       " 'entertainment',\n",
       " 'business',\n",
       " 'politics',\n",
       " 'sport',\n",
       " 'business',\n",
       " 'politics',\n",
       " 'sport',\n",
       " 'business',\n",
       " 'sport',\n",
       " 'sport',\n",
       " 'business',\n",
       " 'politics',\n",
       " 'tech',\n",
       " 'business',\n",
       " 'business',\n",
       " 'sport',\n",
       " 'sport',\n",
       " 'sport',\n",
       " 'business',\n",
       " 'entertainment',\n",
       " 'entertainment',\n",
       " 'tech',\n",
       " 'politics',\n",
       " 'entertainment',\n",
       " 'tech',\n",
       " 'sport',\n",
       " 'tech',\n",
       " 'entertainment',\n",
       " 'business',\n",
       " 'politics',\n",
       " 'business',\n",
       " 'politics',\n",
       " 'business',\n",
       " 'business',\n",
       " 'business',\n",
       " 'tech',\n",
       " 'politics',\n",
       " 'tech',\n",
       " 'entertainment',\n",
       " 'sport',\n",
       " 'tech',\n",
       " 'sport',\n",
       " 'entertainment',\n",
       " 'tech',\n",
       " 'politics',\n",
       " 'business',\n",
       " 'entertainment',\n",
       " 'sport',\n",
       " 'tech',\n",
       " 'sport',\n",
       " 'sport',\n",
       " 'business',\n",
       " 'sport',\n",
       " 'business',\n",
       " 'politics',\n",
       " 'tech',\n",
       " 'sport',\n",
       " 'tech',\n",
       " 'tech',\n",
       " 'tech',\n",
       " 'entertainment',\n",
       " 'politics',\n",
       " 'sport',\n",
       " 'entertainment',\n",
       " 'entertainment',\n",
       " 'business',\n",
       " 'entertainment',\n",
       " 'business',\n",
       " 'entertainment',\n",
       " 'business',\n",
       " 'tech',\n",
       " 'business',\n",
       " 'politics',\n",
       " 'sport',\n",
       " 'tech',\n",
       " 'sport',\n",
       " 'sport',\n",
       " 'sport',\n",
       " 'sport',\n",
       " 'sport',\n",
       " 'sport',\n",
       " 'politics',\n",
       " 'sport',\n",
       " 'politics',\n",
       " 'entertainment',\n",
       " 'business',\n",
       " 'sport',\n",
       " 'politics',\n",
       " 'sport',\n",
       " 'politics',\n",
       " 'entertainment',\n",
       " 'sport',\n",
       " 'business',\n",
       " 'entertainment',\n",
       " 'sport',\n",
       " 'politics',\n",
       " 'sport',\n",
       " 'politics',\n",
       " 'sport',\n",
       " 'politics',\n",
       " 'business',\n",
       " 'entertainment',\n",
       " 'business',\n",
       " 'entertainment',\n",
       " 'entertainment',\n",
       " 'tech',\n",
       " 'sport',\n",
       " 'business',\n",
       " 'entertainment',\n",
       " 'business',\n",
       " 'entertainment',\n",
       " 'business',\n",
       " 'politics',\n",
       " 'politics',\n",
       " 'tech',\n",
       " 'business',\n",
       " 'business',\n",
       " 'politics',\n",
       " 'tech',\n",
       " 'entertainment',\n",
       " 'sport',\n",
       " 'business',\n",
       " 'tech',\n",
       " 'sport',\n",
       " 'entertainment',\n",
       " 'politics',\n",
       " 'sport',\n",
       " 'sport',\n",
       " 'entertainment',\n",
       " 'entertainment',\n",
       " 'tech',\n",
       " 'business',\n",
       " 'tech',\n",
       " 'politics',\n",
       " 'entertainment',\n",
       " 'sport',\n",
       " 'sport',\n",
       " 'sport',\n",
       " 'sport',\n",
       " 'entertainment',\n",
       " 'tech',\n",
       " 'business',\n",
       " 'tech',\n",
       " 'business',\n",
       " 'tech',\n",
       " 'business',\n",
       " 'tech',\n",
       " 'entertainment',\n",
       " 'tech',\n",
       " 'tech',\n",
       " 'politics',\n",
       " 'business',\n",
       " 'politics',\n",
       " 'business',\n",
       " 'business',\n",
       " 'entertainment',\n",
       " 'politics',\n",
       " 'tech',\n",
       " 'business',\n",
       " 'business',\n",
       " 'tech',\n",
       " 'sport',\n",
       " 'politics',\n",
       " 'sport',\n",
       " 'politics',\n",
       " 'tech',\n",
       " 'tech',\n",
       " 'politics',\n",
       " 'business',\n",
       " 'politics',\n",
       " 'entertainment',\n",
       " 'politics',\n",
       " 'business',\n",
       " 'entertainment',\n",
       " 'sport',\n",
       " 'tech',\n",
       " 'tech',\n",
       " 'business',\n",
       " 'tech',\n",
       " 'politics',\n",
       " 'business',\n",
       " 'sport',\n",
       " 'politics',\n",
       " 'business',\n",
       " 'entertainment',\n",
       " 'business',\n",
       " 'business',\n",
       " 'sport',\n",
       " 'tech',\n",
       " 'business',\n",
       " 'sport',\n",
       " 'entertainment',\n",
       " 'entertainment',\n",
       " 'sport',\n",
       " 'entertainment',\n",
       " 'sport',\n",
       " 'tech',\n",
       " 'politics',\n",
       " 'entertainment',\n",
       " 'sport',\n",
       " 'entertainment',\n",
       " 'sport',\n",
       " 'entertainment',\n",
       " 'politics',\n",
       " 'business',\n",
       " 'tech',\n",
       " 'entertainment',\n",
       " 'business',\n",
       " 'politics',\n",
       " 'business',\n",
       " 'tech',\n",
       " 'business',\n",
       " 'sport',\n",
       " 'politics',\n",
       " 'politics',\n",
       " 'business',\n",
       " 'politics',\n",
       " 'sport',\n",
       " 'business',\n",
       " 'entertainment',\n",
       " 'politics',\n",
       " 'sport',\n",
       " 'politics',\n",
       " 'business',\n",
       " 'sport',\n",
       " 'tech',\n",
       " 'business',\n",
       " 'politics',\n",
       " 'business',\n",
       " 'politics',\n",
       " 'business',\n",
       " 'business',\n",
       " 'sport',\n",
       " 'tech',\n",
       " 'politics',\n",
       " 'entertainment',\n",
       " 'tech',\n",
       " 'entertainment',\n",
       " 'tech',\n",
       " 'sport',\n",
       " 'sport',\n",
       " 'tech',\n",
       " 'sport',\n",
       " 'sport',\n",
       " 'sport',\n",
       " 'entertainment',\n",
       " 'sport',\n",
       " 'politics',\n",
       " 'tech',\n",
       " 'business',\n",
       " 'sport',\n",
       " 'business',\n",
       " 'sport',\n",
       " 'business',\n",
       " 'sport',\n",
       " 'entertainment',\n",
       " 'business',\n",
       " 'business',\n",
       " 'entertainment',\n",
       " 'politics',\n",
       " 'business',\n",
       " 'sport',\n",
       " 'sport',\n",
       " 'tech',\n",
       " 'sport',\n",
       " 'sport',\n",
       " 'entertainment',\n",
       " 'business',\n",
       " 'sport',\n",
       " 'tech',\n",
       " 'politics',\n",
       " 'entertainment',\n",
       " 'business',\n",
       " 'business',\n",
       " 'politics',\n",
       " 'sport',\n",
       " 'entertainment',\n",
       " 'politics',\n",
       " 'business',\n",
       " 'sport',\n",
       " 'sport',\n",
       " 'tech',\n",
       " 'entertainment',\n",
       " 'sport',\n",
       " 'business',\n",
       " 'tech',\n",
       " 'business',\n",
       " 'sport',\n",
       " 'politics',\n",
       " 'politics',\n",
       " 'entertainment',\n",
       " 'politics',\n",
       " 'entertainment',\n",
       " 'politics',\n",
       " 'business',\n",
       " 'politics',\n",
       " 'tech',\n",
       " 'business',\n",
       " 'sport',\n",
       " 'tech',\n",
       " 'entertainment',\n",
       " 'politics',\n",
       " 'sport',\n",
       " 'politics',\n",
       " 'politics',\n",
       " 'tech',\n",
       " 'politics',\n",
       " 'sport',\n",
       " 'tech',\n",
       " 'politics',\n",
       " 'tech',\n",
       " 'tech',\n",
       " 'entertainment',\n",
       " 'business',\n",
       " 'tech',\n",
       " 'politics',\n",
       " 'business',\n",
       " 'politics',\n",
       " 'sport',\n",
       " 'tech',\n",
       " 'entertainment',\n",
       " 'entertainment',\n",
       " 'business',\n",
       " 'sport',\n",
       " 'tech',\n",
       " 'tech',\n",
       " 'entertainment',\n",
       " 'tech',\n",
       " 'business',\n",
       " 'sport',\n",
       " 'entertainment',\n",
       " 'tech',\n",
       " 'business',\n",
       " 'politics',\n",
       " 'tech',\n",
       " 'tech',\n",
       " 'politics',\n",
       " 'politics',\n",
       " 'sport',\n",
       " 'business',\n",
       " 'tech',\n",
       " 'sport',\n",
       " 'politics',\n",
       " 'politics',\n",
       " 'business',\n",
       " 'tech',\n",
       " 'sport',\n",
       " 'politics',\n",
       " 'business',\n",
       " 'politics',\n",
       " 'politics',\n",
       " 'tech',\n",
       " 'entertainment',\n",
       " 'business',\n",
       " 'business',\n",
       " 'sport',\n",
       " 'sport',\n",
       " 'sport',\n",
       " 'tech',\n",
       " 'sport',\n",
       " 'politics',\n",
       " 'tech',\n",
       " 'tech',\n",
       " 'politics',\n",
       " 'business',\n",
       " 'sport',\n",
       " 'sport',\n",
       " 'entertainment',\n",
       " 'entertainment',\n",
       " 'sport',\n",
       " 'tech',\n",
       " 'tech',\n",
       " 'sport',\n",
       " 'tech',\n",
       " 'entertainment',\n",
       " 'politics',\n",
       " 'tech',\n",
       " 'sport',\n",
       " 'business',\n",
       " 'politics',\n",
       " 'entertainment',\n",
       " 'business',\n",
       " 'tech',\n",
       " 'sport',\n",
       " 'politics',\n",
       " 'business',\n",
       " 'business',\n",
       " 'politics',\n",
       " 'tech',\n",
       " 'sport',\n",
       " 'entertainment',\n",
       " 'business',\n",
       " 'tech',\n",
       " 'business',\n",
       " 'tech',\n",
       " 'sport',\n",
       " 'sport',\n",
       " 'politics',\n",
       " 'business',\n",
       " 'tech',\n",
       " 'sport',\n",
       " 'politics',\n",
       " 'business',\n",
       " 'business',\n",
       " 'tech',\n",
       " 'politics',\n",
       " 'tech',\n",
       " 'business',\n",
       " 'politics',\n",
       " 'business',\n",
       " 'entertainment',\n",
       " 'business',\n",
       " 'entertainment',\n",
       " 'politics',\n",
       " 'entertainment',\n",
       " 'sport',\n",
       " 'business',\n",
       " 'politics',\n",
       " 'business',\n",
       " 'sport',\n",
       " 'entertainment',\n",
       " 'business',\n",
       " 'entertainment',\n",
       " 'entertainment',\n",
       " 'sport',\n",
       " 'tech',\n",
       " 'entertainment',\n",
       " 'business',\n",
       " 'business',\n",
       " 'politics',\n",
       " 'entertainment',\n",
       " 'politics',\n",
       " 'politics',\n",
       " 'sport',\n",
       " 'business',\n",
       " 'business',\n",
       " 'politics',\n",
       " 'entertainment',\n",
       " 'entertainment',\n",
       " 'business',\n",
       " 'business',\n",
       " 'sport',\n",
       " 'politics',\n",
       " 'tech',\n",
       " 'business',\n",
       " 'politics',\n",
       " 'business',\n",
       " 'sport',\n",
       " 'sport',\n",
       " 'politics',\n",
       " 'sport',\n",
       " 'tech',\n",
       " 'business',\n",
       " 'politics',\n",
       " 'sport',\n",
       " 'politics',\n",
       " 'tech',\n",
       " 'business',\n",
       " 'politics',\n",
       " 'tech',\n",
       " 'politics',\n",
       " 'politics',\n",
       " 'entertainment',\n",
       " 'tech',\n",
       " 'sport',\n",
       " 'sport',\n",
       " 'politics',\n",
       " 'business',\n",
       " 'tech',\n",
       " 'politics',\n",
       " 'sport',\n",
       " 'sport',\n",
       " 'entertainment',\n",
       " 'business',\n",
       " 'entertainment',\n",
       " 'entertainment',\n",
       " 'business',\n",
       " 'politics',\n",
       " 'sport',\n",
       " 'business',\n",
       " 'tech',\n",
       " 'tech',\n",
       " 'business',\n",
       " 'politics',\n",
       " 'sport',\n",
       " 'business',\n",
       " 'sport',\n",
       " 'business',\n",
       " 'politics',\n",
       " 'business',\n",
       " 'sport',\n",
       " 'politics',\n",
       " 'tech',\n",
       " 'sport',\n",
       " 'politics',\n",
       " 'business',\n",
       " 'tech',\n",
       " 'politics',\n",
       " 'sport',\n",
       " 'politics',\n",
       " 'entertainment',\n",
       " 'sport',\n",
       " 'politics',\n",
       " 'business',\n",
       " 'business',\n",
       " 'business',\n",
       " 'tech',\n",
       " 'politics',\n",
       " 'politics',\n",
       " 'sport',\n",
       " 'business',\n",
       " 'tech',\n",
       " 'tech',\n",
       " 'tech',\n",
       " 'sport',\n",
       " 'tech',\n",
       " 'politics',\n",
       " 'business',\n",
       " 'business',\n",
       " 'sport',\n",
       " 'entertainment',\n",
       " 'politics',\n",
       " 'business',\n",
       " 'tech',\n",
       " 'tech',\n",
       " 'sport',\n",
       " 'tech',\n",
       " 'business',\n",
       " 'sport',\n",
       " 'business',\n",
       " 'business',\n",
       " 'business',\n",
       " 'politics',\n",
       " 'politics',\n",
       " 'entertainment',\n",
       " 'entertainment',\n",
       " 'entertainment',\n",
       " 'politics',\n",
       " 'tech',\n",
       " 'tech',\n",
       " 'politics',\n",
       " 'entertainment',\n",
       " 'business',\n",
       " 'sport',\n",
       " 'sport',\n",
       " 'politics',\n",
       " 'entertainment',\n",
       " 'politics',\n",
       " 'sport',\n",
       " 'business',\n",
       " 'business',\n",
       " 'business',\n",
       " 'entertainment',\n",
       " 'tech',\n",
       " 'sport',\n",
       " 'business',\n",
       " 'politics',\n",
       " 'politics',\n",
       " 'tech',\n",
       " 'politics',\n",
       " 'sport',\n",
       " 'politics',\n",
       " 'business',\n",
       " 'tech',\n",
       " 'business',\n",
       " 'sport',\n",
       " 'sport',\n",
       " 'tech',\n",
       " 'sport',\n",
       " 'entertainment',\n",
       " 'tech',\n",
       " 'entertainment',\n",
       " 'tech',\n",
       " 'sport',\n",
       " 'politics',\n",
       " 'business',\n",
       " 'tech',\n",
       " 'politics',\n",
       " 'entertainment',\n",
       " 'entertainment',\n",
       " 'politics',\n",
       " 'business',\n",
       " 'business',\n",
       " 'tech',\n",
       " 'business',\n",
       " 'business',\n",
       " 'business',\n",
       " 'sport',\n",
       " 'entertainment',\n",
       " 'business',\n",
       " 'sport',\n",
       " 'business',\n",
       " 'sport',\n",
       " 'tech',\n",
       " 'business',\n",
       " 'politics',\n",
       " 'sport',\n",
       " 'business',\n",
       " 'sport',\n",
       " 'sport',\n",
       " 'entertainment',\n",
       " 'politics',\n",
       " 'tech',\n",
       " 'sport',\n",
       " 'business',\n",
       " 'sport',\n",
       " 'business',\n",
       " 'sport',\n",
       " 'sport',\n",
       " 'politics',\n",
       " 'tech',\n",
       " 'business',\n",
       " 'tech',\n",
       " 'business',\n",
       " 'sport',\n",
       " 'tech',\n",
       " 'business',\n",
       " 'entertainment',\n",
       " 'business',\n",
       " 'entertainment',\n",
       " 'sport',\n",
       " 'tech',\n",
       " 'business',\n",
       " 'business',\n",
       " 'business',\n",
       " 'politics',\n",
       " 'sport',\n",
       " 'entertainment',\n",
       " 'tech',\n",
       " 'business',\n",
       " 'sport',\n",
       " 'entertainment',\n",
       " 'business',\n",
       " 'entertainment',\n",
       " 'business',\n",
       " 'politics',\n",
       " 'sport',\n",
       " 'sport',\n",
       " 'business',\n",
       " 'tech',\n",
       " 'sport',\n",
       " 'business',\n",
       " 'business',\n",
       " 'business',\n",
       " 'business',\n",
       " 'business',\n",
       " 'entertainment',\n",
       " 'tech',\n",
       " 'sport',\n",
       " 'politics',\n",
       " 'tech',\n",
       " 'politics',\n",
       " 'tech',\n",
       " 'sport',\n",
       " 'tech',\n",
       " 'entertainment',\n",
       " 'business',\n",
       " 'business',\n",
       " 'entertainment',\n",
       " 'politics',\n",
       " 'sport',\n",
       " 'sport',\n",
       " 'sport',\n",
       " 'entertainment',\n",
       " 'tech',\n",
       " 'politics',\n",
       " 'entertainment',\n",
       " 'sport',\n",
       " 'sport',\n",
       " 'politics',\n",
       " 'tech',\n",
       " 'politics',\n",
       " 'entertainment',\n",
       " 'sport',\n",
       " 'entertainment',\n",
       " 'sport',\n",
       " 'tech',\n",
       " 'tech',\n",
       " 'sport',\n",
       " 'sport',\n",
       " 'business',\n",
       " 'tech',\n",
       " 'entertainment',\n",
       " 'business',\n",
       " 'tech',\n",
       " 'business',\n",
       " 'business',\n",
       " 'sport',\n",
       " 'entertainment',\n",
       " 'politics',\n",
       " 'entertainment',\n",
       " 'business',\n",
       " 'politics',\n",
       " 'business',\n",
       " 'politics',\n",
       " 'sport',\n",
       " 'tech',\n",
       " 'tech',\n",
       " 'politics',\n",
       " 'entertainment',\n",
       " 'business',\n",
       " 'tech',\n",
       " 'entertainment',\n",
       " 'entertainment',\n",
       " 'politics',\n",
       " 'business',\n",
       " 'business',\n",
       " 'politics',\n",
       " 'politics',\n",
       " 'tech',\n",
       " 'sport',\n",
       " 'business',\n",
       " 'entertainment',\n",
       " 'politics',\n",
       " 'business',\n",
       " 'politics']"
      ]
     },
     "execution_count": 46,
     "metadata": {},
     "output_type": "execute_result"
    }
   ],
   "source": [
    "Y_pred_name"
   ]
  },
  {
   "cell_type": "code",
   "execution_count": null,
   "id": "s_zz1I0Oag4m",
   "metadata": {
    "id": "s_zz1I0Oag4m"
   },
   "outputs": [],
   "source": []
  },
  {
   "cell_type": "code",
   "execution_count": null,
   "id": "eM-sIorNag7E",
   "metadata": {
    "id": "eM-sIorNag7E"
   },
   "outputs": [],
   "source": []
  },
  {
   "cell_type": "code",
   "execution_count": null,
   "id": "gcY4UdSaag9W",
   "metadata": {
    "id": "gcY4UdSaag9W"
   },
   "outputs": [],
   "source": []
  },
  {
   "cell_type": "code",
   "execution_count": null,
   "id": "1y7ChWjRahAF",
   "metadata": {
    "id": "1y7ChWjRahAF"
   },
   "outputs": [],
   "source": []
  },
  {
   "cell_type": "code",
   "execution_count": null,
   "id": "Zp3dYN-pahCt",
   "metadata": {
    "id": "Zp3dYN-pahCt"
   },
   "outputs": [],
   "source": []
  },
  {
   "cell_type": "code",
   "execution_count": null,
   "id": "PBTaeAurw4c4",
   "metadata": {
    "id": "PBTaeAurw4c4"
   },
   "outputs": [],
   "source": []
  },
  {
   "cell_type": "code",
   "execution_count": null,
   "id": "WUdw3KHy7HOd",
   "metadata": {
    "colab": {
     "base_uri": "https://localhost:8080/",
     "height": 358
    },
    "id": "WUdw3KHy7HOd",
    "outputId": "ca0af307-ea36-4d37-eccc-4746ec644f5f"
   },
   "outputs": [
    {
     "data": {
      "text/plain": [
       "<matplotlib.axes._subplots.AxesSubplot at 0x7f3b9cb24650>"
      ]
     },
     "execution_count": 7,
     "metadata": {
      "tags": []
     },
     "output_type": "execute_result"
    },
    {
     "data": {
      "image/png": "[encoded data removed]",
      "text/plain": [
       "<Figure size 432x288 with 1 Axes>"
      ]
     },
     "metadata": {
      "needs_background": "light",
      "tags": []
     },
     "output_type": "display_data"
    }
   ],
   "source": [
    "df_train.groupby(\"Category\").category_id.count().plot.bar(ylim=0)"
   ]
  },
  {
   "cell_type": "code",
   "execution_count": null,
   "id": "1N3YUGzb7HRT",
   "metadata": {
    "id": "1N3YUGzb7HRT"
   },
   "outputs": [],
   "source": [
    "tfidf = TfidfVectorizer(sublinear_tf=True, min_df=5, norm='l2', encoding='latin-1', ngram_range=(1, 2), stop_words='english')\n",
    "features = tfidf.fit_transform(df_train.Text).toarray()\n",
    "labels = df_train.category_id"
   ]
  },
  {
   "cell_type": "code",
   "execution_count": null,
   "id": "1A0A_l0L7HT9",
   "metadata": {
    "id": "1A0A_l0L7HT9"
   },
   "outputs": [],
   "source": [
    "category_to_id = {'business':0, 'tech':1, 'politics':2, 'sport':3, 'entertainment':4}\n",
    "id_to_category = {0: 'business', 1: 'tech', 2: 'politics', 3: 'sport', 4: 'entertainment'}"
   ]
  },
  {
   "cell_type": "code",
   "execution_count": null,
   "id": "DMc9DP6B9A8B",
   "metadata": {
    "colab": {
     "base_uri": "https://localhost:8080/"
    },
    "id": "DMc9DP6B9A8B",
    "outputId": "26aa5219-ed41-4cbd-cfd0-0301bb1329d5"
   },
   "outputs": [
    {
     "name": "stdout",
     "output_type": "stream",
     "text": [
      "# 'business':\n",
      "  . Most correlated unigrams:\n",
      "       . growth\n",
      "       . bank\n",
      "       . shares\n",
      "  . Most correlated bigrams:\n",
      "       . stock market\n",
      "       . economic growth\n",
      "       . analysts said\n",
      "# 'entertainment':\n",
      "  . Most correlated unigrams:\n",
      "       . singer\n",
      "       . actor\n",
      "       . film\n",
      "  . Most correlated bigrams:\n",
      "       . won best\n",
      "       . los angeles\n",
      "       . box office\n",
      "# 'politics':\n",
      "  . Most correlated unigrams:\n",
      "       . blair\n",
      "       . election\n",
      "       . labour\n",
      "  . Most correlated bigrams:\n",
      "       . prime minister\n",
      "       . tony blair\n",
      "       . mr blair\n",
      "# 'sport':\n",
      "  . Most correlated unigrams:\n",
      "       . match\n",
      "       . coach\n",
      "       . cup\n",
      "  . Most correlated bigrams:\n",
      "       . grand slam\n",
      "       . champions league\n",
      "       . australian open\n",
      "# 'tech':\n",
      "  . Most correlated unigrams:\n",
      "       . technology\n",
      "       . software\n",
      "       . users\n",
      "  . Most correlated bigrams:\n",
      "       . anti virus\n",
      "       . mobile phones\n",
      "       . mobile phone\n"
     ]
    }
   ],
   "source": [
    "# Use chi-square analysis to find corelation between features (importantce of words) and labels(news category) \n",
    "from sklearn.feature_selection import chi2\n",
    "\n",
    "N = 3  # We are going to look for top 3 categories\n",
    "\n",
    "#For each category, find words that are highly corelated to it\n",
    "for Category, category_id in sorted(category_to_id.items()):\n",
    "  features_chi2 = chi2(features, labels == category_id)                   # Do chi2 analyses of all items in this category\n",
    "  indices = np.argsort(features_chi2[0])                                  # Sorts the indices of features_chi2[0] - the chi-squared stats of each feature\n",
    "  feature_names = np.array(tfidf.get_feature_names())[indices]            # Converts indices to feature names ( in increasing order of chi-squared stat values)\n",
    "  unigrams = [v for v in feature_names if len(v.split(' ')) == 1]         # List of single word features ( in increasing order of chi-squared stat values)\n",
    "  bigrams = [v for v in feature_names if len(v.split(' ')) == 2]          # List for two-word features ( in increasing order of chi-squared stat values)\n",
    "  print(\"# '{}':\".format(Category))\n",
    "  print(\"  . Most correlated unigrams:\\n       . {}\".format('\\n       . '.join(unigrams[-N:]))) # Print 3 unigrams with highest Chi squared stat\n",
    "  print(\"  . Most correlated bigrams:\\n       . {}\".format('\\n       . '.join(bigrams[-N:]))) # Print 3 bigrams with highest Chi squared stat"
   ]
  },
  {
   "cell_type": "markdown",
   "id": "BUTQpwyIb_0l",
   "metadata": {
    "id": "BUTQpwyIb_0l"
   },
   "source": []
  }
 ],
 "metadata": {
  "colab": {
   "name": "BBC_News_Classification.ipynb",
   "provenance": []
  },
  "kernelspec": {
   "display_name": "Python 3",
   "language": "python",
   "name": "python3"
  },
  "language_info": {
   "codemirror_mode": {
    "name": "ipython",
    "version": 3
   },
   "file_extension": ".py",
   "mimetype": "text/x-python",
   "name": "python",
   "nbconvert_exporter": "python",
   "pygments_lexer": "ipython3",
   "version": "3.8.8"
  }
 },
 "nbformat": 4,
 "nbformat_minor": 5
}
