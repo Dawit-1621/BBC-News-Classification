{
 "cells": [
  {
   "cell_type": "markdown",
   "id": "academic-recall",
   "metadata": {},
   "source": [
    "# BBC News Classification Project"
   ]
  },
  {
   "cell_type": "code",
   "execution_count": null,
   "id": "authentic-present",
   "metadata": {},
   "outputs": [],
   "source": []
  },
  {
   "cell_type": "markdown",
   "id": "advisory-encoding",
   "metadata": {},
   "source": [
    "### The Dataset\n",
    "Text documents are one of the richest sources of data for businesses.\n",
    "\n",
    "We’ll use a public dataset from the BBC comprised of 2225 articles, each labeled under one of 5 categories: business, entertainment, politics, sport or tech.\n",
    "\n",
    "The dataset is broken into 1490 records for training and 735 for testing. The goal will be to build a system that can accurately classify previously unseen news articles into the right category.\n"
   ]
  },
  {
   "cell_type": "code",
   "execution_count": null,
   "id": "vocational-picnic",
   "metadata": {},
   "outputs": [],
   "source": []
  },
  {
   "cell_type": "code",
   "execution_count": null,
   "id": "monetary-drink",
   "metadata": {},
   "outputs": [],
   "source": []
  }
 ],
 "metadata": {
  "kernelspec": {
   "display_name": "Python 3",
   "language": "python",
   "name": "python3"
  },
  "language_info": {
   "codemirror_mode": {
    "name": "ipython",
    "version": 3
   },
   "file_extension": ".py",
   "mimetype": "text/x-python",
   "name": "python",
   "nbconvert_exporter": "python",
   "pygments_lexer": "ipython3",
   "version": "3.7.9"
  }
 },
 "nbformat": 4,
 "nbformat_minor": 5
}
